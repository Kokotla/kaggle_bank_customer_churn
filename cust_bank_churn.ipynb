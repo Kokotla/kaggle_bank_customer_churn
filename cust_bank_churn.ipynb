{
 "cells": [
  {
   "cell_type": "code",
   "execution_count": null,
   "id": "671d1709-f184-415b-a133-5671f84d6738",
   "metadata": {},
   "outputs": [],
   "source": [
    "import pandas as pd\n",
    "import numpy as np\n",
    "from time import time\n",
    "import plotly.express as px\n",
    "import plotly.graph_objects as go\n",
    "from scipy.stats import randint, uniform"
   ]
  },
  {
   "cell_type": "code",
   "execution_count": null,
   "id": "08359f45-323e-43d8-b470-73324c04f10d",
   "metadata": {},
   "outputs": [],
   "source": [
    "from sklearn.model_selection import train_test_split, cross_val_score, RandomizedSearchCV, StratifiedKFold\n",
    "from sklearn.pipeline import Pipeline\n",
    "from sklearn.preprocessing import OrdinalEncoder, MinMaxScaler, StandardScaler, OneHotEncoder\n",
    "from sklearn.compose import ColumnTransformer\n",
    "from sklearn.pipeline import Pipeline\n",
    "from sklearn.metrics import precision_recall_curve, auc, average_precision_score\n",
    "\n",
    "from sklearn.ensemble import GradientBoostingClassifier\n",
    "from xgboost import XGBClassifier\n",
    "from lightgbm import LGBMClassifier\n",
    "from catboost import CatBoostClassifier\n",
    "import time"
   ]
  },
  {
   "cell_type": "code",
   "execution_count": null,
   "id": "b3bb49f2-9a54-4a3b-9f50-3a4b9b95abf5",
   "metadata": {},
   "outputs": [],
   "source": [
    "import keras\n",
    "import bctools as bc\n",
    "from bayes_opt import BayesianOptimization, UtilityFunction\n",
    "from hyperopt import hp, fmin, tpe"
   ]
  },
  {
   "cell_type": "code",
   "execution_count": null,
   "id": "d220b0c1-fdae-4b5d-a8d9-1f6a3a24d56f",
   "metadata": {},
   "outputs": [],
   "source": [
    "import warnings\n",
    "warnings.filterwarnings(\"ignore\")"
   ]
  },
  {
   "cell_type": "code",
   "execution_count": null,
   "id": "86067191-f5ae-4710-b3a3-9070c1d849fc",
   "metadata": {},
   "outputs": [],
   "source": [
    "pd.set_option('display.max_colwidth', None)"
   ]
  },
  {
   "cell_type": "code",
   "execution_count": null,
   "id": "0bfd9562-f8c8-4627-893c-d6289d441332",
   "metadata": {},
   "outputs": [],
   "source": [
    "precision_recall_curve()"
   ]
  },
  {
   "cell_type": "markdown",
   "id": "d45390cc-fce1-48a5-851a-8e12f4ca4124",
   "metadata": {},
   "source": [
    "### Import and explore data"
   ]
  },
  {
   "cell_type": "code",
   "execution_count": null,
   "id": "52a820fe-a601-4380-b17d-f9ab630fec14",
   "metadata": {},
   "outputs": [],
   "source": [
    "df = pd.read_csv(\"./data/train.csv\")"
   ]
  },
  {
   "cell_type": "code",
   "execution_count": null,
   "id": "906e09bf-32f1-46c4-a19f-c2ad067b0a78",
   "metadata": {},
   "outputs": [],
   "source": [
    "df.head()"
   ]
  },
  {
   "cell_type": "code",
   "execution_count": null,
   "id": "3f25d7d2-775c-43c9-b198-8acb593dc302",
   "metadata": {},
   "outputs": [],
   "source": [
    "df.describe(include=\"all\")"
   ]
  },
  {
   "cell_type": "code",
   "execution_count": null,
   "id": "5b40ba76-f7d7-4a76-8c57-6f514e0e48db",
   "metadata": {},
   "outputs": [],
   "source": [
    "df.Surname.value_counts()"
   ]
  },
  {
   "cell_type": "code",
   "execution_count": null,
   "id": "69b1f51f-8c64-457a-b0aa-3fbb2ed2aa33",
   "metadata": {},
   "outputs": [],
   "source": [
    "df.CustomerId.value_counts()"
   ]
  },
  {
   "cell_type": "code",
   "execution_count": null,
   "id": "a5a36402-aa16-4bdb-81c1-6814f6f7b5b4",
   "metadata": {},
   "outputs": [],
   "source": [
    "# Remove unique IDs from the table as they serve no purpose\n",
    "df.drop(columns=[\"id\", \"CustomerId\", \"Surname\"], inplace=True)\n",
    "df.head()"
   ]
  },
  {
   "cell_type": "code",
   "execution_count": null,
   "id": "227318cc-9dd5-431e-ac46-af73bdef26d5",
   "metadata": {},
   "outputs": [],
   "source": [
    "# Check size\n",
    "df.shape"
   ]
  },
  {
   "cell_type": "code",
   "execution_count": null,
   "id": "e0bf13e8-0334-49c3-9ce0-27672b4a46a9",
   "metadata": {},
   "outputs": [],
   "source": [
    "# Check label distribution\n",
    "df.Exited.value_counts()"
   ]
  },
  {
   "cell_type": "code",
   "execution_count": null,
   "id": "14d58ad9-b428-404b-bf10-e9ca105976fe",
   "metadata": {},
   "outputs": [],
   "source": [
    "print( \"Number of positive samples in training data: {} ({:.2f}% of total)\".format(df.Exited.value_counts()[1], 100 * (df.Exited.value_counts()[1]/ df.shape[0])))"
   ]
  },
  {
   "cell_type": "code",
   "execution_count": null,
   "id": "c7874f88-d1f9-4d18-a0c4-a0edf3c38653",
   "metadata": {},
   "outputs": [],
   "source": [
    "df.info()"
   ]
  },
  {
   "cell_type": "code",
   "execution_count": null,
   "id": "ea50863c-a1e5-47b0-8d51-82a162ced468",
   "metadata": {},
   "outputs": [],
   "source": []
  },
  {
   "cell_type": "markdown",
   "id": "d5ed1f13-f760-440f-9736-af6c9ceb0e5c",
   "metadata": {},
   "source": [
    "### Visualisation"
   ]
  },
  {
   "cell_type": "code",
   "execution_count": null,
   "id": "4c73959a-3b1b-4ef2-8fdd-1d72d628c3e8",
   "metadata": {},
   "outputs": [],
   "source": [
    "fig = px.histogram(df, x=\"CreditScore\", color=\"Exited\", marginal=\"box\", hover_data=df.columns, height=500, width=900)\n",
    "fig.show()"
   ]
  },
  {
   "cell_type": "code",
   "execution_count": null,
   "id": "bda38914-f6aa-4742-acbe-9c82faf14445",
   "metadata": {},
   "outputs": [],
   "source": [
    "fig = px.histogram(df, x=\"Balance\", color=\"Exited\", marginal=\"box\", hover_data=df.columns, height=500, width=900)\n",
    "fig.show()"
   ]
  },
  {
   "cell_type": "code",
   "execution_count": null,
   "id": "6bdb5d42-bdb1-4a05-908d-b0bc2b6bdbdc",
   "metadata": {},
   "outputs": [],
   "source": [
    "fig = px.histogram(df, x=\"EstimatedSalary\", color=\"Exited\", marginal=\"box\", hover_data=df.columns, height=500, width=900)\n",
    "fig.show()"
   ]
  },
  {
   "cell_type": "code",
   "execution_count": null,
   "id": "99a57e87-ba68-4926-8ef2-2ae202a8b57d",
   "metadata": {},
   "outputs": [],
   "source": []
  },
  {
   "cell_type": "markdown",
   "id": "93d5988d-3033-4a63-ba9d-d3ab80579ab0",
   "metadata": {},
   "source": [
    "## Preprocessing and data engineering"
   ]
  },
  {
   "cell_type": "markdown",
   "id": "96985d1a-11e2-4308-bfdf-eb956fc6a109",
   "metadata": {},
   "source": [
    "#### Transform data"
   ]
  },
  {
   "cell_type": "code",
   "execution_count": null,
   "id": "737f2882-e87c-43c7-a9a4-032fed82dba6",
   "metadata": {
    "scrolled": true
   },
   "outputs": [],
   "source": [
    "df[\"BalanceLog\"] = np.log(df.Balance)"
   ]
  },
  {
   "cell_type": "code",
   "execution_count": null,
   "id": "946e1085-f938-4239-8e51-907e11f8763c",
   "metadata": {},
   "outputs": [],
   "source": [
    "df_ = df.copy()\n",
    "df_[\"Balance\"] = df.BalanceLog"
   ]
  },
  {
   "cell_type": "code",
   "execution_count": null,
   "id": "6b80c35a-af1e-4eda-af69-38e1c2bd7869",
   "metadata": {},
   "outputs": [],
   "source": [
    "fig = px.histogram(df, x=\"BalanceLog\", color=\"Exited\", marginal=\"box\", hover_data=df.columns, height=500, width=900)\n",
    "fig.show()"
   ]
  },
  {
   "cell_type": "markdown",
   "id": "63665a50-532d-4cbc-9f9c-a21da03ebf16",
   "metadata": {},
   "source": [
    "#### Change data type"
   ]
  },
  {
   "cell_type": "code",
   "execution_count": null,
   "id": "e2b163df-9c34-4cf1-90ed-d02ca3d087b7",
   "metadata": {},
   "outputs": [],
   "source": [
    "df.head()"
   ]
  },
  {
   "cell_type": "code",
   "execution_count": null,
   "id": "0ad1ebe4-df55-46dc-9d94-873eeecb95d5",
   "metadata": {},
   "outputs": [],
   "source": [
    "convert_dict = {\"Geography\":\"category\",\n",
    "               \"Gender\":\"category\",\n",
    "               \"HasCrCard\":\"category\",\n",
    "               \"IsActiveMember\":\"category\",}"
   ]
  },
  {
   "cell_type": "code",
   "execution_count": null,
   "id": "2d7427cc-89fe-4cf4-bd0b-18bd0d4b4c05",
   "metadata": {},
   "outputs": [],
   "source": [
    "df = df.astype(convert_dict)\n",
    "df.info()"
   ]
  },
  {
   "cell_type": "code",
   "execution_count": null,
   "id": "bc1bc67c-b0ab-482f-b7e1-092b0d3016eb",
   "metadata": {},
   "outputs": [],
   "source": []
  },
  {
   "cell_type": "markdown",
   "id": "b6880591-397b-46a9-9e22-33a135c8a0c4",
   "metadata": {},
   "source": [
    "#### Train test split"
   ]
  },
  {
   "cell_type": "code",
   "execution_count": null,
   "id": "079863b4-5335-4b2b-80ce-b99044e29c9d",
   "metadata": {},
   "outputs": [],
   "source": [
    "df.drop_duplicates(inplace=True)\n",
    "df.shape"
   ]
  },
  {
   "cell_type": "code",
   "execution_count": null,
   "id": "cd3f7096-3e47-4392-a66c-d6facf1df14d",
   "metadata": {},
   "outputs": [],
   "source": [
    "df.iloc[:,:10].head()"
   ]
  },
  {
   "cell_type": "code",
   "execution_count": null,
   "id": "61c8ad63-3652-4d99-b528-1ef999514824",
   "metadata": {},
   "outputs": [],
   "source": [
    "\n",
    "X_train, X_test, y_train, y_test = train_test_split(df.iloc[:,:10], df.iloc[:,10].astype(\"float32\"), test_size=0.2, random_state=42, stratify=df.iloc[:,10].astype(\"float32\"))"
   ]
  },
  {
   "cell_type": "code",
   "execution_count": null,
   "id": "1692b42f-d0c7-471a-a7fc-4f7277edbff7",
   "metadata": {},
   "outputs": [],
   "source": [
    "bins = np.bincount(y_train)"
   ]
  },
  {
   "cell_type": "code",
   "execution_count": null,
   "id": "9fd67280-f717-4968-9222-0e20b0642bb1",
   "metadata": {},
   "outputs": [],
   "source": [
    "bins_test = np.bincount(y_test)"
   ]
  },
  {
   "cell_type": "code",
   "execution_count": null,
   "id": "0c39fd0a-a3b0-4fa4-90eb-01ff3b98afef",
   "metadata": {},
   "outputs": [],
   "source": [
    "X_train.head()"
   ]
  },
  {
   "cell_type": "code",
   "execution_count": null,
   "id": "d1d6f9ab-b52d-4d25-a932-489444941b3c",
   "metadata": {},
   "outputs": [],
   "source": [
    "X_train.describe(include=\"all\")"
   ]
  },
  {
   "cell_type": "code",
   "execution_count": null,
   "id": "45adb7d0-7f17-4a99-8d70-ebe4bd6f45a6",
   "metadata": {},
   "outputs": [],
   "source": [
    "X_test.describe(include=\"all\")"
   ]
  },
  {
   "cell_type": "code",
   "execution_count": null,
   "id": "1f338631-852d-4cc5-bb3e-0487f4c2c2c8",
   "metadata": {},
   "outputs": [],
   "source": []
  },
  {
   "cell_type": "markdown",
   "id": "bc5e7a53-9a1b-4593-a0a2-c668c6295647",
   "metadata": {},
   "source": [
    "#### Preprocessing pipeline\n"
   ]
  },
  {
   "cell_type": "code",
   "execution_count": null,
   "id": "6d1595d6-23c4-4222-bfe9-c5f5adb118a0",
   "metadata": {},
   "outputs": [],
   "source": [
    "categorical_features = X_train.select_dtypes(include=[\"category\"]).columns"
   ]
  },
  {
   "cell_type": "code",
   "execution_count": null,
   "id": "1d2d186d-44cb-4cbf-a909-9248a45a64ef",
   "metadata": {},
   "outputs": [],
   "source": [
    "numerical_features = X_test.select_dtypes(exclude=[\"category\"]).columns"
   ]
  },
  {
   "cell_type": "code",
   "execution_count": null,
   "id": "b770b28f-b092-4865-a0d2-0b0677225322",
   "metadata": {},
   "outputs": [],
   "source": [
    "numerical_transformer = Pipeline(steps=[('scaler', StandardScaler())])\n",
    "categorical_transformer = Pipeline(steps=[('ordinal', OneHotEncoder())])\n",
    "\n",
    "preprocessor = ColumnTransformer(transformers=[('num', numerical_transformer, numerical_features),\n",
    "                                              ('cat', categorical_transformer, categorical_features)])"
   ]
  },
  {
   "cell_type": "code",
   "execution_count": null,
   "id": "1f3b7ebe-0074-4cb8-bc86-ab800abe3042",
   "metadata": {},
   "outputs": [],
   "source": []
  },
  {
   "cell_type": "code",
   "execution_count": null,
   "id": "17f858e2-021f-4a6c-b893-cd616f6c597e",
   "metadata": {},
   "outputs": [],
   "source": [
    "preprocessor.fit(X_train)"
   ]
  },
  {
   "cell_type": "code",
   "execution_count": null,
   "id": "6d3f8207-ac6f-4b0a-a45a-2aa631e5c642",
   "metadata": {},
   "outputs": [],
   "source": [
    "X_train_ = preprocessor.transform(X_train)\n",
    "X_test_ = preprocessor.transform(X_test)"
   ]
  },
  {
   "cell_type": "code",
   "execution_count": null,
   "id": "264d392a-ad5d-4a2b-a970-8ed9be767588",
   "metadata": {},
   "outputs": [],
   "source": []
  },
  {
   "cell_type": "markdown",
   "id": "0ce79c08-2d73-4b51-9fba-af29bf5f9713",
   "metadata": {},
   "source": [
    "## Modelling\n",
    "This section models and perform hyperparameter tuning for 4 tree based models. <br>\n",
    "The hyperparamter tuning optimizer is Bayesian Optimization"
   ]
  },
  {
   "cell_type": "code",
   "execution_count": null,
   "id": "7340eab3-53a6-4efe-9c06-4682e0841a4a",
   "metadata": {},
   "outputs": [],
   "source": [
    "accuracy = {}\n",
    "speed = {}"
   ]
  },
  {
   "cell_type": "code",
   "execution_count": null,
   "id": "4fe3fbae-a65b-4ee9-963e-9217990231b0",
   "metadata": {},
   "outputs": [],
   "source": [
    "# baysian optimisation function\n"
   ]
  },
  {
   "cell_type": "markdown",
   "id": "2e547e17-070f-4273-903f-92d8074a00d1",
   "metadata": {},
   "source": [
    "#### Gradient boosted classifer"
   ]
  },
  {
   "cell_type": "code",
   "execution_count": null,
   "id": "276ac2e6-1d1f-4b8c-aa2a-d4f2bfc655c4",
   "metadata": {},
   "outputs": [],
   "source": [
    "def gbm_cl_bo(max_depth, max_features, learning_rate, n_estimators, subsample):\n",
    "    params_gbm = {}\n",
    "    params_gbm['max_depth'] = round(max_depth)\n",
    "    params_gbm['max_features'] = max_features\n",
    "    params_gbm['learning_rate'] = learning_rate\n",
    "    params_gbm['n_estimators'] = round(n_estimators)\n",
    "    params_gbm['subsample'] = subsample\n",
    "    scores = cross_val_score(GradientBoostingClassifier(random_state=123, **params_gbm),\n",
    "                             X_train_, y_train, scoring='average_precision', cv=5).mean()\n",
    "    score = scores.mean()\n",
    "    return score\n",
    "# Run Bayesian Optimization\n",
    "start = time.time()\n",
    "params_gbm ={\n",
    "    'max_depth':(3, 10),\n",
    "    'max_features':(0.8, 1),\n",
    "    'learning_rate':(0.01, 1),\n",
    "    'n_estimators':(80, 150),\n",
    "    'subsample': (0.8, 1)\n",
    "}\n",
    "gbm_bo = BayesianOptimization(gbm_cl_bo, params_gbm, random_state=111)\n",
    "gbm_bo.maximize(init_points=10, n_iter=4)\n",
    "print('It takes %s minutes' % ((time.time() - start)/60))\n"
   ]
  },
  {
   "cell_type": "code",
   "execution_count": null,
   "id": "0a4c91e5-94b0-4923-b128-311c67827bbb",
   "metadata": {},
   "outputs": [],
   "source": [
    "params_gbm = gbm_bo.max['params']\n",
    "params_gbm['max_depth'] = round(params_gbm['max_depth'])\n",
    "params_gbm['n_estimators'] = round(params_gbm['n_estimators'])\n",
    "params_gbm"
   ]
  },
  {
   "cell_type": "code",
   "execution_count": null,
   "id": "bfaad9d5-45df-4d72-b7ec-15093a0baeb5",
   "metadata": {},
   "outputs": [],
   "source": [
    "model_gbm = GradientBoostingClassifier(random_state=123, **params_gbm)\n",
    "model_gbm.fit(X_train_, y_train)"
   ]
  },
  {
   "cell_type": "code",
   "execution_count": null,
   "id": "8a35e1cf-f23f-4e3f-9139-4717296d9074",
   "metadata": {},
   "outputs": [],
   "source": []
  },
  {
   "cell_type": "markdown",
   "id": "7645e928-63fb-4597-b5aa-828bb7c75452",
   "metadata": {},
   "source": [
    "#### XGBoost (eXtreme Gradient Boosting)"
   ]
  },
  {
   "cell_type": "code",
   "execution_count": null,
   "id": "bc973d4c-047e-4560-af80-1132119b35b7",
   "metadata": {},
   "outputs": [],
   "source": [
    "def xgb_cl_bo(max_depth,learning_rate, n_estimators):\n",
    "    params_xgb = {}\n",
    "    params_xgb['max_depth'] = round(max_depth)\n",
    "    params_xgb['learning_rate'] = learning_rate\n",
    "    params_xgb['n_estimators'] = round(n_estimators)\n",
    "    scores = cross_val_score(XGBClassifier(random_state=123, **params_xgb),\n",
    "                             X_train_, y_train, scoring='average_precision', cv=5).mean()\n",
    "    score = scores.mean()\n",
    "    return score\n",
    "# Run Bayesian Optimization\n",
    "start = time.time()\n",
    "param_dist_xgb = {\n",
    "    'n_estimators': (50, 200),\n",
    "    'max_depth': (3, 10),\n",
    "    'learning_rate': (0.01, 0.2),\n",
    "}\n",
    "xgb_bo = BayesianOptimization(xgb_cl_bo, param_dist_xgb, random_state=111)\n",
    "xgb_bo.maximize(init_points=20, n_iter=4)\n",
    "print('It takes %s minutes' % ((time.time() - start)/60))"
   ]
  },
  {
   "cell_type": "code",
   "execution_count": null,
   "id": "1e74337d-bffd-473e-b9de-1030e57c4568",
   "metadata": {},
   "outputs": [],
   "source": [
    "params_xgb = xgb_bo.max['params']\n",
    "params_xgb['max_depth'] = round(params_xgb['max_depth'])\n",
    "params_xgb['n_estimators'] = round(params_xgb['n_estimators'])\n",
    "params_xgb"
   ]
  },
  {
   "cell_type": "code",
   "execution_count": null,
   "id": "942c8d19-9b69-48b8-bffd-cfd774ba412c",
   "metadata": {},
   "outputs": [],
   "source": [
    "model_xgb = XGBClassifier(random_state=123, **params_xgb)\n",
    "model_xgb.fit(X_train_, y_train)"
   ]
  },
  {
   "cell_type": "markdown",
   "id": "f048cd9e-294c-457c-94d1-25058262395a",
   "metadata": {},
   "source": [
    "#### LightGBM"
   ]
  },
  {
   "cell_type": "code",
   "execution_count": null,
   "id": "24fbad44-b3a9-42ae-8509-1d80ed48a337",
   "metadata": {
    "scrolled": true
   },
   "outputs": [],
   "source": [
    "def lgbm_cl_bo(num_leaves, min_child_samples, min_child_weight, subsample, colsample_bytree, reg_alpha, reg_lambda, max_depth,learning_rate, n_estimators):\n",
    "    params_lgbm = {}\n",
    "    params_lgbm['num_leaves'] = round(num_leaves)\n",
    "    params_lgbm['min_child_samples'] = round(min_child_samples)\n",
    "    params_lgbm['min_child_weight'] = round(min_child_weight)\n",
    "    params_lgbm['subsample'] = subsample\n",
    "    params_lgbm['colsample_bytree'] = colsample_bytree\n",
    "    params_lgbm['reg_alpha'] = round(reg_alpha)\n",
    "    params_lgbm['reg_lambda'] = round(reg_lambda)\n",
    "    params_lgbm['max_depth'] = round(max_depth)\n",
    "    params_lgbm['learning_rate'] = learning_rate\n",
    "    params_lgbm['n_estimators'] = round(n_estimators)\n",
    "\n",
    "    \n",
    "    scores = cross_val_score(LGBMClassifier(random_state=42, **params_lgbm),\n",
    "                             X_train_, y_train, scoring='average_precision', cv=5, verbose=0).mean()\n",
    "    score = scores.mean()\n",
    "    return score\n",
    "\n",
    "param_dist_lgbm ={'num_leaves': (6, 50), \n",
    "             'min_child_samples': (100, 500), \n",
    "             'min_child_weight': (1, 1e3),\n",
    "             'subsample': (0.2, 0.8), \n",
    "             'colsample_bytree': (0.4, 0.6),\n",
    "             'reg_alpha': (0, 100),\n",
    "             'reg_lambda': (0, 100),\n",
    "            'n_estimators': (50, 200),\n",
    "            'max_depth': (3, 10),\n",
    "            'learning_rate': (0.01, 0.2),}\n",
    "\n",
    "start = time.time()\n",
    "\n",
    "lgbm_bo = BayesianOptimization(lgbm_cl_bo, param_dist_lgbm, random_state=111)\n",
    "lgbm_bo.maximize(init_points=20, n_iter=4)\n",
    "print('It takes %s minutes' % ((time.time() - start)/60))"
   ]
  },
  {
   "cell_type": "code",
   "execution_count": null,
   "id": "1affaad4-a0c8-4c5f-bcaf-e3123f12f3b7",
   "metadata": {},
   "outputs": [],
   "source": [
    "params_lgbm = lgbm_bo.max['params']\n",
    "params_lgbm['max_depth'] = round(params_lgbm['max_depth'])\n",
    "params_lgbm['n_estimators'] = round(params_lgbm['n_estimators'])\n",
    "params_lgbm['num_leaves'] = round(params_lgbm['num_leaves'])\n",
    "params_lgbm['min_child_samples'] = round(params_lgbm['min_child_samples'])\n",
    "params_lgbm['min_child_weight'] = round(params_lgbm['min_child_weight'])\n",
    "params_lgbm['reg_alpha'] = round(params_lgbm['reg_alpha'])\n",
    "params_lgbm['reg_lambda'] = round(params_lgbm['reg_lambda'])\n",
    "params_lgbm"
   ]
  },
  {
   "cell_type": "code",
   "execution_count": null,
   "id": "2e21b6e4-b46c-4146-a823-8cf77f0460c8",
   "metadata": {},
   "outputs": [],
   "source": [
    "model_lgbm = LGBMClassifier(random_state=42, **params_lgbm)\n",
    "model_lgbm.fit(X_train_, y_train)"
   ]
  },
  {
   "cell_type": "markdown",
   "id": "b3cd4b3b-750c-48de-b8e8-d42ce4888877",
   "metadata": {},
   "source": [
    "#### CatBoost"
   ]
  },
  {
   "cell_type": "code",
   "execution_count": null,
   "id": "d3f3bba7-3fa8-420f-af8a-841e474d70b0",
   "metadata": {},
   "outputs": [],
   "source": [
    "def catb_cl_bo(depth,learning_rate, iterations, min_child_samples, l2_leaf_reg):\n",
    "    params_catb = {}\n",
    "    params_catb['depth'] = round(depth)\n",
    "    params_catb['learning_rate'] = learning_rate\n",
    "    params_catb['iterations'] = round(iterations)\n",
    "    params_catb['l2_leaf_reg'] = l2_leaf_reg\n",
    "    params_catb['min_child_samples'] = round(min_child_samples)\n",
    "    \n",
    "    scores = cross_val_score(CatBoostClassifier(silent=True,random_state=123, **params_catb),\n",
    "                             X_train_, y_train, scoring='average_precision', cv=5).mean()\n",
    "    score = scores.mean()\n",
    "    return score\n",
    "    \n",
    "# Run Bayesian Optimization\n",
    "start = time.time()\n",
    "param_dist_catb = {\n",
    "    'iterations': (50, 1000),\n",
    "    'depth': (3, 10),\n",
    "    'learning_rate': (0.01, 0.2),\n",
    "    'min_child_samples':(1, 32),\n",
    "    'l2_leaf_reg':(0.5, 5.0),\n",
    "}\n",
    "catb_bo = BayesianOptimization(catb_cl_bo, param_dist_catb, random_state=111)\n",
    "catb_bo.maximize(init_points=20, n_iter=4)\n",
    "print('It takes %s minutes' % ((time.time() - start)/60))\n"
   ]
  },
  {
   "cell_type": "code",
   "execution_count": null,
   "id": "c7994a72-6576-4386-8fd0-927efabfd3f8",
   "metadata": {},
   "outputs": [],
   "source": [
    "params_catb = catb_bo.max['params']\n",
    "params_catb['depth'] = round(params_catb['depth'])\n",
    "params_catb['iterations'] = round(params_catb['iterations'])\n",
    "params_catb['min_child_samples'] = round(params_catb['min_child_samples'])\n",
    "params_catb"
   ]
  },
  {
   "cell_type": "code",
   "execution_count": null,
   "id": "766e4895-b51b-4844-8997-db49520f36c6",
   "metadata": {},
   "outputs": [],
   "source": [
    "model_catb = CatBoostClassifier(silent=True,random_state=123, **params_catb)\n",
    "model_catb.fit(X_train_, y_train)"
   ]
  },
  {
   "cell_type": "markdown",
   "id": "9e481d9b-30d1-47cc-ab8f-5d00f0966591",
   "metadata": {},
   "source": [
    "#### Neural Network"
   ]
  },
  {
   "cell_type": "code",
   "execution_count": null,
   "id": "ef415d5b-db9d-4e9c-b51f-dd9b13a75323",
   "metadata": {},
   "outputs": [],
   "source": [
    "# neural Network class weights\n",
    "weight_for_0 = 1.0 / bins[0]\n",
    "weight_for_1 = 1.0 / bins[1]\n",
    "\n",
    "print(weight_for_0, weight_for_1)"
   ]
  },
  {
   "cell_type": "code",
   "execution_count": null,
   "id": "799cb9a6-e5e7-41f3-af42-1a7fd8d30064",
   "metadata": {},
   "outputs": [],
   "source": [
    "del(model)"
   ]
  },
  {
   "cell_type": "code",
   "execution_count": null,
   "id": "12ec16cb-5c90-4352-b211-3d051c1c62a6",
   "metadata": {},
   "outputs": [],
   "source": [
    "model = keras.Sequential(\n",
    "    [\n",
    "        keras.Input(shape=X_train_.shape[1:]),\n",
    "        keras.layers.Dense(256, activation=\"relu\"),\n",
    "        keras.layers.Dense(256, activation=\"relu\"),\n",
    "        keras.layers.Dropout(0.2),\n",
    "        keras.layers.Dense(128, activation=\"relu\"),\n",
    "        keras.layers.Dense(128, activation=\"relu\"),\n",
    "        keras.layers.Dropout(0.2),\n",
    "        keras.layers.Dense(1, activation=\"sigmoid\"),\n",
    "    ]\n",
    ")\n",
    "model.summary()"
   ]
  },
  {
   "cell_type": "code",
   "execution_count": null,
   "id": "578ef0a4-96f0-4755-97cc-d475c23384c0",
   "metadata": {},
   "outputs": [],
   "source": [
    "metrics = [\n",
    "    keras.metrics.Accuracy(name=\"accuracy\"),\n",
    "    keras.metrics.Precision(name=\"precision\"),\n",
    "    keras.metrics.Recall(name=\"recall\"),\n",
    "]\n",
    "\n",
    "model.compile(\n",
    "    optimizer=keras.optimizers.Adam(1e-2), loss=\"binary_crossentropy\", metrics=metrics, \n",
    ")\n",
    "\n",
    "callbacks = [keras.callbacks.ModelCheckpoint(\"./keras_model/churn_model_at_epoch.keras\"), keras.callbacks.EarlyStopping(monitor='loss', patience=3)]\n",
    "class_weight = {0: weight_for_0, 1: weight_for_1}"
   ]
  },
  {
   "cell_type": "code",
   "execution_count": null,
   "id": "6ef97e78-f3d3-4e25-80c3-633366acf35f",
   "metadata": {},
   "outputs": [],
   "source": [
    "model.fit(\n",
    "    X_train_,\n",
    "    y_train,\n",
    "    batch_size=2048,\n",
    "    epochs=30,\n",
    "    verbose=1,\n",
    "    callbacks=callbacks,\n",
    "    validation_data=(X_test_, y_test),\n",
    "    #class_weight=class_weight,\n",
    ")"
   ]
  },
  {
   "cell_type": "code",
   "execution_count": null,
   "id": "1e22cd60-9339-4f8e-a143-61ac6cb6eae8",
   "metadata": {},
   "outputs": [],
   "source": []
  },
  {
   "cell_type": "markdown",
   "id": "39b66cdd-7ccc-4b3a-8af7-62c6ccd636d2",
   "metadata": {},
   "source": [
    "#### Model predictions"
   ]
  },
  {
   "cell_type": "code",
   "execution_count": null,
   "id": "db79bfa0-c562-439a-959d-68d427a6a076",
   "metadata": {},
   "outputs": [],
   "source": [
    "preds_nn = model.predict(X_test_)\n",
    "#preds_gbm = model_gbm.predict_proba(X_test_)\n",
    "preds_xgb = model_xgb.predict_proba(X_test_)\n",
    "preds_lgbm = model_lgbm.predict_proba(X_test_)\n",
    "preds_catb = model_catb.predict_proba(X_test_)"
   ]
  },
  {
   "cell_type": "code",
   "execution_count": null,
   "id": "900be408-00d6-4a05-bfe0-4e3407b1e283",
   "metadata": {},
   "outputs": [],
   "source": [
    "def getPlotingData(y_true, y_score):\n",
    "    precision, recall, thresholds = precision_recall_curve(y_true, y_score)\n",
    "    f1_scores = 2*recall*precision/(recall+precision)\n",
    "    ls = []\n",
    "    for i in range(len(thresholds)):\n",
    "        ls.append(f\"Threshold: {thresholds[i]:.5f}\\n f1 score: {f1_scores[i]:.4f}\")\n",
    "\n",
    "    return precision, recall, thresholds, ls\n",
    "    "
   ]
  },
  {
   "cell_type": "code",
   "execution_count": null,
   "id": "e263b984-a696-4e4d-853c-1f6ef89d971a",
   "metadata": {},
   "outputs": [],
   "source": []
  },
  {
   "cell_type": "code",
   "execution_count": null,
   "id": "9c4a4ab3-4c30-4e71-b5a4-dc075f4bb2d3",
   "metadata": {},
   "outputs": [],
   "source": [
    "precision_nn, recall_nn, thresholds_nn, hovertxt_nn = getPlotingData(y_test, preds_nn)\n",
    "#precision_gbm, recall_gbm, thresholds_gbm, hovertxt_gbm = getPlotingData(y_test, preds_gbm[:, 1])\n",
    "precision_xgb, recall_xgb, thresholds_xgb, hovertxt_xgb = getPlotingData(y_test, preds_xgb[:, 1])\n",
    "precision_lgbm, recall_lgbm, thresholds_lgbm, hovertxt_lgbm = getPlotingData(y_test, preds_lgbm[:, 1])\n",
    "precision_catb, recall_catb, thresholds_catb, hovertxt_catb = getPlotingData(y_test, preds_catb[:, 1])"
   ]
  },
  {
   "cell_type": "code",
   "execution_count": null,
   "id": "288b75f3-5aa0-4183-a992-e07b2673d642",
   "metadata": {},
   "outputs": [],
   "source": []
  },
  {
   "cell_type": "code",
   "execution_count": null,
   "id": "96c58243-feff-4eea-b2d7-b7a1a6537092",
   "metadata": {},
   "outputs": [],
   "source": [
    "fig = go.Figure()\n",
    "fig.add_shape(\n",
    "    type='line', line=dict(dash='dash'),\n",
    "    x0=0, x1=1, y0=1, y1=0\n",
    ")\n",
    "auc_score = auc(recall_nn,precision_nn)\n",
    "name = f\"NN (AURCP={auc_score:.4f})\"\n",
    "fig.add_trace(go.Scatter(x=recall_nn, y=precision_nn, name=name, mode='lines', hovertext=hovertxt_nn))\n",
    "#auc_score = auc(recall_gbm,precision_gbm)\n",
    "#name = f\"GBM (AURCP={auc_score:.4f})\"\n",
    "#fig.add_trace(go.Scatter(x=recall_gbm, y=precision_gbm, name=name, mode='lines', hovertext= hovertxt_gbm))\n",
    "auc_score = auc(recall_xgb,precision_xgb)\n",
    "name = f\"XGB (AURCP={auc_score:.4f})\"\n",
    "fig.add_trace(go.Scatter(x=recall_xgb, y=precision_xgb, name=name, mode='lines', hovertext=hovertxt_xgb))\n",
    "auc_score = auc(recall_lgbm,precision_lgbm)\n",
    "name = f\"LGBM (AURCP={auc_score:.4f})\"\n",
    "fig.add_trace(go.Scatter(x=recall_lgbm, y=precision_lgbm, name=name, mode='lines', hovertext=hovertxt_lgbm))\n",
    "auc_score = auc(recall_catb,precision_catb)\n",
    "name = f\"CATB (AURCP={auc_score:.4f})\"\n",
    "fig.add_trace(go.Scatter(x=recall_catb, y=precision_catb, name=name, mode='lines', hovertext=hovertxt_catb))\n",
    "\n",
    "fig.update_layout(\n",
    "    title=\"Area Under Precision Recall Curve for Multiple Models\",\n",
    "    xaxis_title='Recall',\n",
    "    yaxis_title='Precision',\n",
    "    yaxis=dict(scaleanchor=\"x\", scaleratio=1),\n",
    "    xaxis=dict(constrain='domain'),\n",
    "    width=800, height=600\n",
    ")\n",
    "\n",
    "fig.show()"
   ]
  },
  {
   "cell_type": "code",
   "execution_count": null,
   "id": "79d37223-7f4b-4813-b339-43d2eb015858",
   "metadata": {},
   "outputs": [],
   "source": [
    "\n"
   ]
  },
  {
   "cell_type": "markdown",
   "id": "4250750a-7d07-48af-9659-8940c0dec92a",
   "metadata": {},
   "source": [
    "Catboost is the best model"
   ]
  },
  {
   "cell_type": "code",
   "execution_count": null,
   "id": "b87e1324-592b-4e10-8ace-eedf69fc14a3",
   "metadata": {},
   "outputs": [],
   "source": []
  }
 ],
 "metadata": {
  "kernelspec": {
   "display_name": "Python 3 (ipykernel)",
   "language": "python",
   "name": "python3"
  },
  "language_info": {
   "codemirror_mode": {
    "name": "ipython",
    "version": 3
   },
   "file_extension": ".py",
   "mimetype": "text/x-python",
   "name": "python",
   "nbconvert_exporter": "python",
   "pygments_lexer": "ipython3",
   "version": "3.10.13"
  }
 },
 "nbformat": 4,
 "nbformat_minor": 5
}
